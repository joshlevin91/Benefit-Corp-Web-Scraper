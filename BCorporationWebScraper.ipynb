{
  "cells": [
    {
      "cell_type": "markdown",
      "metadata": {
        "colab_type": "text",
        "id": "view-in-github"
      },
      "source": [
        "<a href=\"https://colab.research.google.com/github/joshlevin91/Benefit-Corp-Web-Scraper/blob/master/BCorporationWebScraper.ipynb\" target=\"_parent\"><img src=\"https://colab.research.google.com/assets/colab-badge.svg\" alt=\"Open In Colab\"/></a>"
      ]
    },
    {
      "cell_type": "markdown",
      "metadata": {
        "id": "hrPEfOqBDcky"
      },
      "source": [
        "**Install Selenium and Chromedriver**"
      ]
    },
    {
      "cell_type": "code",
      "execution_count": null,
      "metadata": {
        "colab": {
          "base_uri": "https://localhost:8080/"
        },
        "id": "sdV4POtL9BGg",
        "outputId": "5416f465-0af7-45c2-c088-c7e3bced110f"
      },
      "outputs": [],
      "source": [
        "!pip install selenium\n",
        "!apt-get update \n",
        "!apt install chromium-chromedriver"
      ]
    },
    {
      "cell_type": "markdown",
      "metadata": {
        "id": "Tk2riPOjIGOF"
      },
      "source": [
        "**Get benefit corporation information**"
      ]
    },
    {
      "cell_type": "code",
      "execution_count": null,
      "metadata": {
        "colab": {
          "base_uri": "https://localhost:8080/"
        },
        "id": "k9m2ujCo-svW",
        "outputId": "ebd0a283-9f78-4cf4-c915-7609ebc6aa50"
      },
      "outputs": [],
      "source": [
        "import requests\n",
        "from bs4 import BeautifulSoup\n",
        "from selenium import webdriver\n",
        "from selenium.webdriver.common.keys import Keys\n",
        "import time\n",
        "\n",
        "# Get company website\n",
        "def getWebsite(url):\n",
        "  source = requests.get(url).text\n",
        "  soup = BeautifulSoup(source, 'lxml')\n",
        "  res = soup.find_all('div',{'class':'opacity-60'})\n",
        "  for r in res:\n",
        "    a = r.find('a', href=True)\n",
        "    if a:\n",
        "      return a['href']\n",
        "\n",
        "# Get region string\n",
        "def getRegStr(region):\n",
        "  regstr = region[0]\n",
        "  if regstr == \"Netherlands\":\n",
        "    return \"The Netherlands\"\n",
        "  if len(region) == 2:\n",
        "      regstr += \" \" + region[1]\n",
        "  return regstr\n",
        "\n",
        "# Get bcorporation URL by region and page\n",
        "def getURL(region, page):\n",
        "  url = 'https://www.bcorporation.net/en-us/find-a-b-corp/search?page='\n",
        "  url += str(page)\n",
        "  url += '&sortBy=companies-production-en-us-latest-certification-desc&refinement=countries%3D'\n",
        "  url += region[0]\n",
        "  if len(region) == 2:\n",
        "    url += '%20' + region[1]\n",
        "  return url\n",
        "\n",
        "# Get company info at a URL\n",
        "def getCompanyInfo(region, url):\n",
        "  driver.get(url)\n",
        "  time.sleep(0.3) # Make sure page loads\n",
        "  html = driver.page_source\n",
        "  soup = BeautifulSoup(html, \"html.parser\")\n",
        "\n",
        "  # Iterate through each company on page\n",
        "  info = []\n",
        "  for company in soup.find_all(\"li\", {\"class\":\"ais-Hits-item\"}):\n",
        "    name = company.find(\"div\", {\"data-testid\":\"company-name\"}).text\n",
        "    description = company.find(\"p\").text\n",
        "    cert = company.find(\"div\", {\"class\":\"flex-grow text-gray-dark\"}).text.lstrip('Certified since: ')\n",
        "\n",
        "    # Go to company page to get its website\n",
        "    a = company.find('a', href=True)\n",
        "    bcorp_company_page = 'https://www.bcorporation.net' + a['href']\n",
        "    website = getWebsite(bcorp_company_page)\n",
        "\n",
        "    company_info = [region, name, website, description, cert]\n",
        "    info.append(company_info)\n",
        "\n",
        "  return info\n",
        "\n",
        "# Get info on corporations located in specified regions (sorted by newest)\n",
        "def getCorporationInfo(regions):\n",
        "  corporations = []\n",
        "\n",
        "  # Iterate through regions\n",
        "  for region in regions:\n",
        "    regstr = getRegStr(region)\n",
        "    print(\"Collecting data from \" + regstr + \"...\")\n",
        "    \n",
        "    # Iterate through pages\n",
        "    page = 1\n",
        "    while True:\n",
        "      url = getURL(region, page)\n",
        "      info = getCompanyInfo(regstr, url)\n",
        "\n",
        "      # Last page reached when no more info is available\n",
        "      if not info:\n",
        "        print()\n",
        "        break\n",
        "      else:\n",
        "        print(\"Page \" + str(page))\n",
        "        corporations.extend(info)\n",
        "        page += 1\n",
        "\n",
        "  return corporations\n",
        "\n",
        "# Initiate the webdriver\n",
        "chrome_options = webdriver.ChromeOptions()\n",
        "chrome_options.add_argument('--headless')\n",
        "chrome_options.add_argument('--no-sandbox')\n",
        "chrome_options.add_argument('--disable-dev-shm-usage')\n",
        "driver = webdriver.Chrome('chromedriver',options=chrome_options)\n",
        "\n",
        "# Get corporation info\n",
        "regions = [['United', 'States'], ['United', 'Kingdom'], ['Canada'], ['Australia'], ['France'], ['Netherlands', 'The'], ['Italy'], ['Spain'], ['Germany']]\n",
        "corporations = getCorporationInfo(regions)\n",
        "\n",
        "# Close the webdriver\n",
        "driver.close()"
      ]
    },
    {
      "cell_type": "markdown",
      "metadata": {
        "id": "m-FJWF3H2EwI"
      },
      "source": [
        "**Write benefit corporation information to a Google worksheet**"
      ]
    },
    {
      "cell_type": "code",
      "execution_count": 82,
      "metadata": {
        "id": "WpZK8l6FqEo1"
      },
      "outputs": [],
      "source": [
        "import time\n",
        "\n",
        "from google.colab import auth\n",
        "auth.authenticate_user()\n",
        "\n",
        "import gspread\n",
        "from google.auth import default\n",
        "creds, _ = default()\n",
        "gc = gspread.authorize(creds)\n",
        "\n",
        "# Create and open worksheet\n",
        "gc.create('B Corps')\n",
        "worksheet = gc.open('B Corps').sheet1\n",
        "\n",
        "# Add corporation data to worksheet\n",
        "worksheet.insert_row(['Region', 'Name', 'Website', 'Description', 'Certification Date'])\n",
        "worksheet.format('A1:E1', {'textFormat': {'bold': True}})\n",
        "for c in corporations:\n",
        "  time.sleep(0.1) #  Google Sheets API has a limit on the request rate\n",
        "  worksheet.append_row(c)"
      ]
    },
    {
      "cell_type": "markdown",
      "metadata": {
        "id": "CNF_Th1p2xml"
      },
      "source": [
        "**Go to https://sheets.google.com to find the new spreadsheet**"
      ]
    },
    {
      "cell_type": "markdown",
      "metadata": {
        "id": "nRa3uuXHIUBI"
      },
      "source": []
    }
  ],
  "metadata": {
    "colab": {
      "authorship_tag": "ABX9TyMUAw3g10mHIbI74kVlJtuc",
      "include_colab_link": true,
      "name": "BCorporationWebScraper.ipynb",
      "provenance": []
    },
    "kernelspec": {
      "display_name": "Python 3",
      "name": "python3"
    },
    "language_info": {
      "name": "python"
    }
  },
  "nbformat": 4,
  "nbformat_minor": 0
}
