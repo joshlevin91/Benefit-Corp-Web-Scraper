{
  "cells": [
    {
      "cell_type": "markdown",
      "metadata": {
        "id": "view-in-github",
        "colab_type": "text"
      },
      "source": [
        "<a href=\"https://colab.research.google.com/github/joshlevin91/Benefit-Corp-Web-Scraper/blob/master/BenefitCorpWebScraper.ipynb\" target=\"_parent\"><img src=\"https://colab.research.google.com/assets/colab-badge.svg\" alt=\"Open In Colab\"/></a>"
      ]
    },
    {
      "cell_type": "markdown",
      "metadata": {
        "id": "a02Hi9cO18E9"
      },
      "source": [
        "**Get list of benefit corporation names and websites**\n",
        "\n"
      ]
    },
    {
      "cell_type": "code",
      "execution_count": null,
      "metadata": {
        "id": "l837hhs7ZiZV"
      },
      "outputs": [],
      "source": [
        "from bs4 import BeautifulSoup\n",
        "import requests\n",
        "\n",
        "# Get names and websites of benefit corporations\n",
        "def getNamesAndWebsites(url):\n",
        "  source = requests.get(url).text\n",
        "  soup = BeautifulSoup(source, 'lxml')\n",
        "  res = soup.find(\"div\", {\"class\":\"view-content\"})\n",
        "\n",
        "  corporations = []\n",
        "  corps = res.find_all(class_=None)\n",
        "  for corp in corps:\n",
        "    name = corp.find(\"div\", {\"class\":\"bcorps--name\"})\n",
        "    a = corp.find('a', href=True)\n",
        "    if name and a:\n",
        "      corporation = [name.text, a['href']]\n",
        "      corporations.append(corporation)\n",
        "\n",
        "  return corporations\n",
        "\n",
        "# Go through all pages to get names and websites of benefit corporations\n",
        "def goThroughPages(root_url):\n",
        "    corporations = [] \n",
        "    while True:\n",
        "        corporations.extend(getNamesAndWebsites(root_url))\n",
        "\n",
        "        # Go to next page\n",
        "        r = requests.get(root_url)\n",
        "        soup = BeautifulSoup(r.content, 'html.parser')\n",
        "        next_page = soup.find(\"li\", {\"class\": \"pager-next\"})\n",
        "        if next_page:\n",
        "            next_url = next_page.find(\"a\", href=True)\n",
        "            if next_url:\n",
        "                root_url = 'https://benefitcorp.net' + next_url['href']\n",
        "            else:\n",
        "                break\n",
        "        else:\n",
        "            break\n",
        "\n",
        "    return corporations\n",
        "\n",
        "# Get list of corporation names and websites\n",
        "corporations = goThroughPages(\"https://benefitcorp.net/businesses/find-a-benefit-corp?sort_by=title&sort_order=ASC\")"
      ]
    },
    {
      "cell_type": "markdown",
      "metadata": {
        "id": "m-FJWF3H2EwI"
      },
      "source": [
        "**Write list to a Google worksheet**"
      ]
    },
    {
      "cell_type": "code",
      "execution_count": null,
      "metadata": {
        "colab": {
          "background_save": true
        },
        "id": "WpZK8l6FqEo1"
      },
      "outputs": [],
      "source": [
        "import time\n",
        "\n",
        "from google.colab import auth\n",
        "auth.authenticate_user()\n",
        "\n",
        "import gspread\n",
        "from google.auth import default\n",
        "creds, _ = default()\n",
        "gc = gspread.authorize(creds)\n",
        "\n",
        "# Create and open worksheet\n",
        "gc.create('Benefit Corps')\n",
        "worksheet = gc.open('Benefit Corps').sheet1\n",
        "\n",
        "# Add corporation data to worksheet\n",
        "worksheet.insert_row(['Name', 'Website'])\n",
        "worksheet.format('A1:B1', {'textFormat': {'bold': True}})\n",
        "for c in corporations:\n",
        "  time.sleep(0.1) #  Google Sheets API has a limit on the request rate\n",
        "  worksheet.append_row(c)"
      ]
    },
    {
      "cell_type": "markdown",
      "metadata": {
        "id": "CNF_Th1p2xml"
      },
      "source": [
        "**Go to https://sheets.google.com to see your new spreadsheet.**"
      ]
    }
  ],
  "metadata": {
    "colab": {
      "name": "BenefitCorpWebScraper.ipynb",
      "provenance": [],
      "authorship_tag": "ABX9TyNupl/bKXq+UW2NNoTyTc6f",
      "include_colab_link": true
    },
    "kernelspec": {
      "display_name": "Python 3",
      "name": "python3"
    },
    "language_info": {
      "name": "python"
    }
  },
  "nbformat": 4,
  "nbformat_minor": 0
}